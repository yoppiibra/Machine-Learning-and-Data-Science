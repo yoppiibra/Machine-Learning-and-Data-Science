{
 "cells": [
  {
   "cell_type": "markdown",
   "id": "f788600c",
   "metadata": {},
   "source": [
    "# Support Vector Machines\n",
    "## SVM - Regression\n",
    "Data Source: https://archive.ics.uci.edu/ml/datasets/Concrete+Slump+Test"
   ]
  },
  {
   "cell_type": "code",
   "execution_count": 1,
   "id": "3637357e",
   "metadata": {},
   "outputs": [],
   "source": [
    "import numpy as np\n",
    "import pandas as pd\n",
    "import matplotlib.pyplot as plt\n",
    "import seaborn as sns"
   ]
  },
  {
   "cell_type": "code",
   "execution_count": 2,
   "id": "3a3ab901",
   "metadata": {},
   "outputs": [],
   "source": [
    "df = pd.read_csv(r'C:\\Users\\Data\\dataset\\DATA\\cement_slump.csv')"
   ]
  },
  {
   "cell_type": "code",
   "execution_count": 3,
   "id": "a0fb692d",
   "metadata": {},
   "outputs": [
    {
     "data": {
      "text/html": [
       "<div>\n",
       "<style scoped>\n",
       "    .dataframe tbody tr th:only-of-type {\n",
       "        vertical-align: middle;\n",
       "    }\n",
       "\n",
       "    .dataframe tbody tr th {\n",
       "        vertical-align: top;\n",
       "    }\n",
       "\n",
       "    .dataframe thead th {\n",
       "        text-align: right;\n",
       "    }\n",
       "</style>\n",
       "<table border=\"1\" class=\"dataframe\">\n",
       "  <thead>\n",
       "    <tr style=\"text-align: right;\">\n",
       "      <th></th>\n",
       "      <th>Cement</th>\n",
       "      <th>Slag</th>\n",
       "      <th>Fly ash</th>\n",
       "      <th>Water</th>\n",
       "      <th>SP</th>\n",
       "      <th>Coarse Aggr.</th>\n",
       "      <th>Fine Aggr.</th>\n",
       "      <th>SLUMP(cm)</th>\n",
       "      <th>FLOW(cm)</th>\n",
       "      <th>Compressive Strength (28-day)(Mpa)</th>\n",
       "    </tr>\n",
       "  </thead>\n",
       "  <tbody>\n",
       "    <tr>\n",
       "      <th>0</th>\n",
       "      <td>273.0</td>\n",
       "      <td>82.0</td>\n",
       "      <td>105.0</td>\n",
       "      <td>210.0</td>\n",
       "      <td>9.0</td>\n",
       "      <td>904.0</td>\n",
       "      <td>680.0</td>\n",
       "      <td>23.0</td>\n",
       "      <td>62.0</td>\n",
       "      <td>34.99</td>\n",
       "    </tr>\n",
       "    <tr>\n",
       "      <th>1</th>\n",
       "      <td>163.0</td>\n",
       "      <td>149.0</td>\n",
       "      <td>191.0</td>\n",
       "      <td>180.0</td>\n",
       "      <td>12.0</td>\n",
       "      <td>843.0</td>\n",
       "      <td>746.0</td>\n",
       "      <td>0.0</td>\n",
       "      <td>20.0</td>\n",
       "      <td>41.14</td>\n",
       "    </tr>\n",
       "    <tr>\n",
       "      <th>2</th>\n",
       "      <td>162.0</td>\n",
       "      <td>148.0</td>\n",
       "      <td>191.0</td>\n",
       "      <td>179.0</td>\n",
       "      <td>16.0</td>\n",
       "      <td>840.0</td>\n",
       "      <td>743.0</td>\n",
       "      <td>1.0</td>\n",
       "      <td>20.0</td>\n",
       "      <td>41.81</td>\n",
       "    </tr>\n",
       "    <tr>\n",
       "      <th>3</th>\n",
       "      <td>162.0</td>\n",
       "      <td>148.0</td>\n",
       "      <td>190.0</td>\n",
       "      <td>179.0</td>\n",
       "      <td>19.0</td>\n",
       "      <td>838.0</td>\n",
       "      <td>741.0</td>\n",
       "      <td>3.0</td>\n",
       "      <td>21.5</td>\n",
       "      <td>42.08</td>\n",
       "    </tr>\n",
       "    <tr>\n",
       "      <th>4</th>\n",
       "      <td>154.0</td>\n",
       "      <td>112.0</td>\n",
       "      <td>144.0</td>\n",
       "      <td>220.0</td>\n",
       "      <td>10.0</td>\n",
       "      <td>923.0</td>\n",
       "      <td>658.0</td>\n",
       "      <td>20.0</td>\n",
       "      <td>64.0</td>\n",
       "      <td>26.82</td>\n",
       "    </tr>\n",
       "  </tbody>\n",
       "</table>\n",
       "</div>"
      ],
      "text/plain": [
       "   Cement   Slag  Fly ash  Water    SP  Coarse Aggr.  Fine Aggr.  SLUMP(cm)  \\\n",
       "0   273.0   82.0    105.0  210.0   9.0         904.0       680.0       23.0   \n",
       "1   163.0  149.0    191.0  180.0  12.0         843.0       746.0        0.0   \n",
       "2   162.0  148.0    191.0  179.0  16.0         840.0       743.0        1.0   \n",
       "3   162.0  148.0    190.0  179.0  19.0         838.0       741.0        3.0   \n",
       "4   154.0  112.0    144.0  220.0  10.0         923.0       658.0       20.0   \n",
       "\n",
       "   FLOW(cm)  Compressive Strength (28-day)(Mpa)  \n",
       "0      62.0                               34.99  \n",
       "1      20.0                               41.14  \n",
       "2      20.0                               41.81  \n",
       "3      21.5                               42.08  \n",
       "4      64.0                               26.82  "
      ]
     },
     "execution_count": 3,
     "metadata": {},
     "output_type": "execute_result"
    }
   ],
   "source": [
    "df.head()"
   ]
  },
  {
   "cell_type": "markdown",
   "id": "3f522b08",
   "metadata": {},
   "source": [
    "## EDA - explonatory data analys"
   ]
  },
  {
   "cell_type": "code",
   "execution_count": 4,
   "id": "e0eb60e6",
   "metadata": {},
   "outputs": [
    {
     "data": {
      "text/plain": [
       "(103, 10)"
      ]
     },
     "execution_count": 4,
     "metadata": {},
     "output_type": "execute_result"
    }
   ],
   "source": [
    "df.shape"
   ]
  },
  {
   "cell_type": "code",
   "execution_count": 5,
   "id": "a7bc62d1",
   "metadata": {},
   "outputs": [
    {
     "name": "stdout",
     "output_type": "stream",
     "text": [
      "<class 'pandas.core.frame.DataFrame'>\n",
      "RangeIndex: 103 entries, 0 to 102\n",
      "Data columns (total 10 columns):\n",
      " #   Column                              Non-Null Count  Dtype  \n",
      "---  ------                              --------------  -----  \n",
      " 0   Cement                              103 non-null    float64\n",
      " 1   Slag                                103 non-null    float64\n",
      " 2   Fly ash                             103 non-null    float64\n",
      " 3   Water                               103 non-null    float64\n",
      " 4   SP                                  103 non-null    float64\n",
      " 5   Coarse Aggr.                        103 non-null    float64\n",
      " 6   Fine Aggr.                          103 non-null    float64\n",
      " 7   SLUMP(cm)                           103 non-null    float64\n",
      " 8   FLOW(cm)                            103 non-null    float64\n",
      " 9   Compressive Strength (28-day)(Mpa)  103 non-null    float64\n",
      "dtypes: float64(10)\n",
      "memory usage: 8.2 KB\n"
     ]
    }
   ],
   "source": [
    "df.info()"
   ]
  },
  {
   "cell_type": "code",
   "execution_count": 6,
   "id": "9aa6c632",
   "metadata": {},
   "outputs": [
    {
     "data": {
      "text/html": [
       "<div>\n",
       "<style scoped>\n",
       "    .dataframe tbody tr th:only-of-type {\n",
       "        vertical-align: middle;\n",
       "    }\n",
       "\n",
       "    .dataframe tbody tr th {\n",
       "        vertical-align: top;\n",
       "    }\n",
       "\n",
       "    .dataframe thead th {\n",
       "        text-align: right;\n",
       "    }\n",
       "</style>\n",
       "<table border=\"1\" class=\"dataframe\">\n",
       "  <thead>\n",
       "    <tr style=\"text-align: right;\">\n",
       "      <th></th>\n",
       "      <th>count</th>\n",
       "      <th>mean</th>\n",
       "      <th>std</th>\n",
       "      <th>min</th>\n",
       "      <th>25%</th>\n",
       "      <th>50%</th>\n",
       "      <th>75%</th>\n",
       "      <th>max</th>\n",
       "    </tr>\n",
       "  </thead>\n",
       "  <tbody>\n",
       "    <tr>\n",
       "      <th>Cement</th>\n",
       "      <td>103.0</td>\n",
       "      <td>229.894175</td>\n",
       "      <td>78.877230</td>\n",
       "      <td>137.00</td>\n",
       "      <td>152.00</td>\n",
       "      <td>248.00</td>\n",
       "      <td>303.900</td>\n",
       "      <td>374.00</td>\n",
       "    </tr>\n",
       "    <tr>\n",
       "      <th>Slag</th>\n",
       "      <td>103.0</td>\n",
       "      <td>77.973786</td>\n",
       "      <td>60.461363</td>\n",
       "      <td>0.00</td>\n",
       "      <td>0.05</td>\n",
       "      <td>100.00</td>\n",
       "      <td>125.000</td>\n",
       "      <td>193.00</td>\n",
       "    </tr>\n",
       "    <tr>\n",
       "      <th>Fly ash</th>\n",
       "      <td>103.0</td>\n",
       "      <td>149.014563</td>\n",
       "      <td>85.418080</td>\n",
       "      <td>0.00</td>\n",
       "      <td>115.50</td>\n",
       "      <td>164.00</td>\n",
       "      <td>235.950</td>\n",
       "      <td>260.00</td>\n",
       "    </tr>\n",
       "    <tr>\n",
       "      <th>Water</th>\n",
       "      <td>103.0</td>\n",
       "      <td>197.167961</td>\n",
       "      <td>20.208158</td>\n",
       "      <td>160.00</td>\n",
       "      <td>180.00</td>\n",
       "      <td>196.00</td>\n",
       "      <td>209.500</td>\n",
       "      <td>240.00</td>\n",
       "    </tr>\n",
       "    <tr>\n",
       "      <th>SP</th>\n",
       "      <td>103.0</td>\n",
       "      <td>8.539806</td>\n",
       "      <td>2.807530</td>\n",
       "      <td>4.40</td>\n",
       "      <td>6.00</td>\n",
       "      <td>8.00</td>\n",
       "      <td>10.000</td>\n",
       "      <td>19.00</td>\n",
       "    </tr>\n",
       "    <tr>\n",
       "      <th>Coarse Aggr.</th>\n",
       "      <td>103.0</td>\n",
       "      <td>883.978641</td>\n",
       "      <td>88.391393</td>\n",
       "      <td>708.00</td>\n",
       "      <td>819.50</td>\n",
       "      <td>879.00</td>\n",
       "      <td>952.800</td>\n",
       "      <td>1049.90</td>\n",
       "    </tr>\n",
       "    <tr>\n",
       "      <th>Fine Aggr.</th>\n",
       "      <td>103.0</td>\n",
       "      <td>739.604854</td>\n",
       "      <td>63.342117</td>\n",
       "      <td>640.60</td>\n",
       "      <td>684.50</td>\n",
       "      <td>742.70</td>\n",
       "      <td>788.000</td>\n",
       "      <td>902.00</td>\n",
       "    </tr>\n",
       "    <tr>\n",
       "      <th>SLUMP(cm)</th>\n",
       "      <td>103.0</td>\n",
       "      <td>18.048544</td>\n",
       "      <td>8.750844</td>\n",
       "      <td>0.00</td>\n",
       "      <td>14.50</td>\n",
       "      <td>21.50</td>\n",
       "      <td>24.000</td>\n",
       "      <td>29.00</td>\n",
       "    </tr>\n",
       "    <tr>\n",
       "      <th>FLOW(cm)</th>\n",
       "      <td>103.0</td>\n",
       "      <td>49.610680</td>\n",
       "      <td>17.568610</td>\n",
       "      <td>20.00</td>\n",
       "      <td>38.50</td>\n",
       "      <td>54.00</td>\n",
       "      <td>63.750</td>\n",
       "      <td>78.00</td>\n",
       "    </tr>\n",
       "    <tr>\n",
       "      <th>Compressive Strength (28-day)(Mpa)</th>\n",
       "      <td>103.0</td>\n",
       "      <td>36.038738</td>\n",
       "      <td>7.837120</td>\n",
       "      <td>17.19</td>\n",
       "      <td>30.90</td>\n",
       "      <td>35.52</td>\n",
       "      <td>41.205</td>\n",
       "      <td>58.53</td>\n",
       "    </tr>\n",
       "  </tbody>\n",
       "</table>\n",
       "</div>"
      ],
      "text/plain": [
       "                                    count        mean        std     min  \\\n",
       "Cement                              103.0  229.894175  78.877230  137.00   \n",
       "Slag                                103.0   77.973786  60.461363    0.00   \n",
       "Fly ash                             103.0  149.014563  85.418080    0.00   \n",
       "Water                               103.0  197.167961  20.208158  160.00   \n",
       "SP                                  103.0    8.539806   2.807530    4.40   \n",
       "Coarse Aggr.                        103.0  883.978641  88.391393  708.00   \n",
       "Fine Aggr.                          103.0  739.604854  63.342117  640.60   \n",
       "SLUMP(cm)                           103.0   18.048544   8.750844    0.00   \n",
       "FLOW(cm)                            103.0   49.610680  17.568610   20.00   \n",
       "Compressive Strength (28-day)(Mpa)  103.0   36.038738   7.837120   17.19   \n",
       "\n",
       "                                       25%     50%      75%      max  \n",
       "Cement                              152.00  248.00  303.900   374.00  \n",
       "Slag                                  0.05  100.00  125.000   193.00  \n",
       "Fly ash                             115.50  164.00  235.950   260.00  \n",
       "Water                               180.00  196.00  209.500   240.00  \n",
       "SP                                    6.00    8.00   10.000    19.00  \n",
       "Coarse Aggr.                        819.50  879.00  952.800  1049.90  \n",
       "Fine Aggr.                          684.50  742.70  788.000   902.00  \n",
       "SLUMP(cm)                            14.50   21.50   24.000    29.00  \n",
       "FLOW(cm)                             38.50   54.00   63.750    78.00  \n",
       "Compressive Strength (28-day)(Mpa)   30.90   35.52   41.205    58.53  "
      ]
     },
     "execution_count": 6,
     "metadata": {},
     "output_type": "execute_result"
    }
   ],
   "source": [
    "df.describe().T"
   ]
  },
  {
   "cell_type": "code",
   "execution_count": 7,
   "id": "96408258",
   "metadata": {},
   "outputs": [
    {
     "data": {
      "text/plain": [
       "Cement                                0\n",
       "Slag                                  0\n",
       "Fly ash                               0\n",
       "Water                                 0\n",
       "SP                                    0\n",
       "Coarse Aggr.                          0\n",
       "Fine Aggr.                            0\n",
       "SLUMP(cm)                             0\n",
       "FLOW(cm)                              0\n",
       "Compressive Strength (28-day)(Mpa)    0\n",
       "dtype: int64"
      ]
     },
     "execution_count": 7,
     "metadata": {},
     "output_type": "execute_result"
    }
   ],
   "source": [
    "df.isna().sum()"
   ]
  },
  {
   "cell_type": "code",
   "execution_count": 8,
   "id": "47bd5051",
   "metadata": {},
   "outputs": [
    {
     "data": {
      "text/plain": [
       "0"
      ]
     },
     "execution_count": 8,
     "metadata": {},
     "output_type": "execute_result"
    }
   ],
   "source": [
    "df.duplicated(subset=None).sum()"
   ]
  },
  {
   "cell_type": "code",
   "execution_count": 9,
   "id": "3ad1b260",
   "metadata": {},
   "outputs": [
    {
     "data": {
      "text/plain": [
       "Index(['Cement', 'Slag', 'Fly ash', 'Water', 'SP', 'Coarse Aggr.',\n",
       "       'Fine Aggr.', 'SLUMP(cm)', 'FLOW(cm)',\n",
       "       'Compressive Strength (28-day)(Mpa)'],\n",
       "      dtype='object')"
      ]
     },
     "execution_count": 9,
     "metadata": {},
     "output_type": "execute_result"
    }
   ],
   "source": [
    "df.columns"
   ]
  },
  {
   "cell_type": "code",
   "execution_count": 10,
   "id": "dd300619",
   "metadata": {},
   "outputs": [],
   "source": [
    "plt.style.use('default')"
   ]
  },
  {
   "cell_type": "code",
   "execution_count": 11,
   "id": "e39a3a39",
   "metadata": {},
   "outputs": [],
   "source": [
    "matrix = df.corr()\n",
    "\n",
    "mask = np.zeros_like(matrix)\n",
    "mask[np.triu_indices_from(mask)]=True"
   ]
  },
  {
   "cell_type": "code",
   "execution_count": 12,
   "id": "a5e83d91",
   "metadata": {},
   "outputs": [
    {
     "data": {
      "image/png": "[encoded data removed]",
      "text/plain": [
       "<Figure size 640x480 with 2 Axes>"
      ]
     },
     "metadata": {},
     "output_type": "display_data"
    }
   ],
   "source": [
    "sns.heatmap(matrix, \n",
    "           center=0,\n",
    "           annot =True,\n",
    "           mask =mask);"
   ]
  },
  {
   "cell_type": "markdown",
   "id": "7da88966",
   "metadata": {},
   "source": [
    "## Split data"
   ]
  },
  {
   "cell_type": "code",
   "execution_count": 13,
   "id": "733258b5",
   "metadata": {},
   "outputs": [],
   "source": [
    "X = df.drop('Compressive Strength (28-day)(Mpa)', axis=1)\n",
    "y = df['Compressive Strength (28-day)(Mpa)']"
   ]
  },
  {
   "cell_type": "code",
   "execution_count": 14,
   "id": "a5d87d34",
   "metadata": {},
   "outputs": [],
   "source": [
    "from sklearn.model_selection import train_test_split"
   ]
  },
  {
   "cell_type": "code",
   "execution_count": 15,
   "id": "cc9aed51",
   "metadata": {},
   "outputs": [],
   "source": [
    "X_train, X_test, y_train, y_test = train_test_split(X, y,test_size= 0.2, random_state=42)"
   ]
  },
  {
   "cell_type": "markdown",
   "id": "e41fdfe4",
   "metadata": {},
   "source": [
    "## Scaling data"
   ]
  },
  {
   "cell_type": "code",
   "execution_count": 16,
   "id": "d0af81f0",
   "metadata": {},
   "outputs": [],
   "source": [
    "from sklearn.preprocessing import StandardScaler"
   ]
  },
  {
   "cell_type": "code",
   "execution_count": 17,
   "id": "664db8b7",
   "metadata": {},
   "outputs": [],
   "source": [
    "scaler = StandardScaler()"
   ]
  },
  {
   "cell_type": "code",
   "execution_count": 18,
   "id": "48c7a310",
   "metadata": {},
   "outputs": [
    {
     "data": {
      "text/plain": [
       "StandardScaler()"
      ]
     },
     "execution_count": 18,
     "metadata": {},
     "output_type": "execute_result"
    }
   ],
   "source": [
    "scaler.fit(X_train)"
   ]
  },
  {
   "cell_type": "code",
   "execution_count": 19,
   "id": "c15dca36",
   "metadata": {},
   "outputs": [],
   "source": [
    "X_train_scaler = scaler.transform(X_train)\n",
    "X_test_scaler = scaler.transform(X_test)"
   ]
  },
  {
   "cell_type": "markdown",
   "id": "7be4f9c7",
   "metadata": {},
   "source": [
    "# Model SVM Regressior dan Hyperparameter Tuning GridSearchCV"
   ]
  },
  {
   "cell_type": "code",
   "execution_count": 20,
   "id": "14e64cea",
   "metadata": {},
   "outputs": [],
   "source": [
    "from sklearn.svm import SVR, LinearSVR\n",
    "from sklearn.model_selection import GridSearchCV"
   ]
  },
  {
   "cell_type": "code",
   "execution_count": 21,
   "id": "47d14d36",
   "metadata": {},
   "outputs": [],
   "source": [
    "#help(SVR)"
   ]
  },
  {
   "cell_type": "markdown",
   "id": "066a2389",
   "metadata": {},
   "source": [
    "### Model SVR"
   ]
  },
  {
   "cell_type": "code",
   "execution_count": 22,
   "id": "ec7dc707",
   "metadata": {},
   "outputs": [],
   "source": [
    "svr = SVR()"
   ]
  },
  {
   "cell_type": "code",
   "execution_count": 23,
   "id": "e19b2db3",
   "metadata": {},
   "outputs": [],
   "source": [
    "param_grid = {'kernel' : ['liner','rbf', 'poly'],\n",
    "             'gamma' : ['scale', 'auto'],\n",
    "             'epsilon' : [0.001, 0.01, 0.1, 1.0, 10],\n",
    "             'degree' : [2,3,4]}"
   ]
  },
  {
   "cell_type": "code",
   "execution_count": 24,
   "id": "c8e7a254",
   "metadata": {},
   "outputs": [],
   "source": [
    "grid = GridSearchCV(svr, param_grid, cv=5, n_jobs=-1)"
   ]
  },
  {
   "cell_type": "code",
   "execution_count": 25,
   "id": "d0aa0d8d",
   "metadata": {},
   "outputs": [
    {
     "name": "stderr",
     "output_type": "stream",
     "text": [
      "C:\\Users\\ibrahim\\anaconda3\\lib\\site-packages\\sklearn\\model_selection\\_validation.py:372: FitFailedWarning: \n",
      "150 fits failed out of a total of 450.\n",
      "The score on these train-test partitions for these parameters will be set to nan.\n",
      "If these failures are not expected, you can try to debug them by setting error_score='raise'.\n",
      "\n",
      "Below are more details about the failures:\n",
      "--------------------------------------------------------------------------------\n",
      "150 fits failed with the following error:\n",
      "Traceback (most recent call last):\n",
      "  File \"C:\\Users\\ibrahim\\anaconda3\\lib\\site-packages\\sklearn\\model_selection\\_validation.py\", line 680, in _fit_and_score\n",
      "    estimator.fit(X_train, y_train, **fit_params)\n",
      "  File \"C:\\Users\\ibrahim\\anaconda3\\lib\\site-packages\\sklearn\\svm\\_base.py\", line 255, in fit\n",
      "    fit(X, y, sample_weight, solver_type, kernel, random_seed=seed)\n",
      "  File \"C:\\Users\\ibrahim\\anaconda3\\lib\\site-packages\\sklearn\\svm\\_base.py\", line 315, in _dense_fit\n",
      "    ) = libsvm.fit(\n",
      "  File \"sklearn\\svm\\_libsvm.pyx\", line 173, in sklearn.svm._libsvm.fit\n",
      "ValueError: 'liner' is not in list\n",
      "\n",
      "  warnings.warn(some_fits_failed_message, FitFailedWarning)\n",
      "C:\\Users\\ibrahim\\anaconda3\\lib\\site-packages\\sklearn\\model_selection\\_search.py:969: UserWarning: One or more of the test scores are non-finite: [        nan  0.30631584  0.06652441         nan  0.30668175  0.06538102\n",
      "         nan  0.30652737  0.06620052         nan  0.30688456  0.06516367\n",
      "         nan  0.30883024  0.06509142         nan  0.30917796  0.06412991\n",
      "         nan  0.31035772  0.07831725         nan  0.31056927  0.07642189\n",
      "         nan  0.08104212 -0.0139927          nan  0.08125585 -0.01362901\n",
      "         nan  0.30631584  0.29503406         nan  0.30668175  0.29504302\n",
      "         nan  0.30652737  0.29478473         nan  0.30688456  0.29481701\n",
      "         nan  0.30883024  0.2935725          nan  0.30917796  0.29352604\n",
      "         nan  0.31035772  0.26021858         nan  0.31056927  0.26041668\n",
      "         nan  0.08104212  0.08206802         nan  0.08125585  0.08393533\n",
      "         nan  0.30631584 -0.02340213         nan  0.30668175 -0.0210583\n",
      "         nan  0.30652737 -0.02296503         nan  0.30688456 -0.02060512\n",
      "         nan  0.30883024 -0.01872343         nan  0.30917796 -0.01709384\n",
      "         nan  0.31035772  0.00658583         nan  0.31056927  0.00905605\n",
      "         nan  0.08104212 -0.02654611         nan  0.08125585 -0.02476666]\n",
      "  warnings.warn(\n"
     ]
    },
    {
     "data": {
      "text/plain": [
       "GridSearchCV(cv=5, estimator=SVR(), n_jobs=-1,\n",
       "             param_grid={'degree': [2, 3, 4],\n",
       "                         'epsilon': [0.001, 0.01, 0.1, 1.0, 10],\n",
       "                         'gamma': ['scale', 'auto'],\n",
       "                         'kernel': ['liner', 'rbf', 'poly']})"
      ]
     },
     "execution_count": 25,
     "metadata": {},
     "output_type": "execute_result"
    }
   ],
   "source": [
    "grid.fit(X_train_scaler, y_train)"
   ]
  },
  {
   "cell_type": "code",
   "execution_count": 26,
   "id": "110f3641",
   "metadata": {},
   "outputs": [
    {
     "data": {
      "text/plain": [
       "SVR(degree=2, epsilon=1.0, gamma='auto')"
      ]
     },
     "execution_count": 26,
     "metadata": {},
     "output_type": "execute_result"
    }
   ],
   "source": [
    "grid.best_estimator_"
   ]
  },
  {
   "cell_type": "code",
   "execution_count": 27,
   "id": "60247ea1",
   "metadata": {},
   "outputs": [
    {
     "data": {
      "text/plain": [
       "{'C': 1.0,\n",
       " 'cache_size': 200,\n",
       " 'coef0': 0.0,\n",
       " 'degree': 2,\n",
       " 'epsilon': 1.0,\n",
       " 'gamma': 'auto',\n",
       " 'kernel': 'rbf',\n",
       " 'max_iter': -1,\n",
       " 'shrinking': True,\n",
       " 'tol': 0.001,\n",
       " 'verbose': False}"
      ]
     },
     "execution_count": 27,
     "metadata": {},
     "output_type": "execute_result"
    }
   ],
   "source": [
    "grid.best_estimator_.get_params()"
   ]
  },
  {
   "cell_type": "code",
   "execution_count": 28,
   "id": "b16ff485",
   "metadata": {},
   "outputs": [
    {
     "data": {
      "text/plain": [
       "0.31056926873063445"
      ]
     },
     "execution_count": 28,
     "metadata": {},
     "output_type": "execute_result"
    }
   ],
   "source": [
    "grid.best_score_"
   ]
  },
  {
   "cell_type": "code",
   "execution_count": 29,
   "id": "4a561a7a",
   "metadata": {},
   "outputs": [],
   "source": [
    "svr_preds = grid.predict(X_test_scaler)"
   ]
  },
  {
   "cell_type": "markdown",
   "id": "51323afd",
   "metadata": {},
   "source": [
    "## Evaluasi model SVR"
   ]
  },
  {
   "cell_type": "code",
   "execution_count": 30,
   "id": "edd7ef84",
   "metadata": {},
   "outputs": [],
   "source": [
    "from sklearn.metrics import mean_absolute_error,mean_squared_error, r2_score"
   ]
  },
  {
   "cell_type": "code",
   "execution_count": 31,
   "id": "4a173560",
   "metadata": {},
   "outputs": [
    {
     "data": {
      "text/plain": [
       "4.253930833393067"
      ]
     },
     "execution_count": 31,
     "metadata": {},
     "output_type": "execute_result"
    }
   ],
   "source": [
    "MAE = mean_absolute_error(y_test, svr_preds)\n",
    "MAE"
   ]
  },
  {
   "cell_type": "code",
   "execution_count": 32,
   "id": "aa62eb09",
   "metadata": {},
   "outputs": [
    {
     "data": {
      "text/plain": [
       "26.367947945644552"
      ]
     },
     "execution_count": 32,
     "metadata": {},
     "output_type": "execute_result"
    }
   ],
   "source": [
    "MSE = mean_squared_error(y_test, svr_preds)\n",
    "MSE"
   ]
  },
  {
   "cell_type": "code",
   "execution_count": 33,
   "id": "cb91dcd3",
   "metadata": {},
   "outputs": [
    {
     "data": {
      "text/plain": [
       "5.134973022874078"
      ]
     },
     "execution_count": 33,
     "metadata": {},
     "output_type": "execute_result"
    }
   ],
   "source": [
    "RMSE = np.sqrt(MSE)\n",
    "RMSE"
   ]
  },
  {
   "cell_type": "code",
   "execution_count": 34,
   "id": "1bb2cd82",
   "metadata": {},
   "outputs": [
    {
     "data": {
      "text/plain": [
       "0.47886570077232826"
      ]
     },
     "execution_count": 34,
     "metadata": {},
     "output_type": "execute_result"
    }
   ],
   "source": [
    "r2_score(y_test, svr_preds)"
   ]
  },
  {
   "cell_type": "markdown",
   "id": "cca045a2",
   "metadata": {},
   "source": [
    "### Model LinearSVR"
   ]
  },
  {
   "cell_type": "code",
   "execution_count": 35,
   "id": "1a29faed",
   "metadata": {},
   "outputs": [],
   "source": [
    "#help(LinearSVR)"
   ]
  },
  {
   "cell_type": "code",
   "execution_count": 36,
   "id": "01ffc957",
   "metadata": {},
   "outputs": [],
   "source": [
    "lin_svr = LinearSVR()"
   ]
  },
  {
   "cell_type": "code",
   "execution_count": 37,
   "id": "9106ae1a",
   "metadata": {},
   "outputs": [],
   "source": [
    "param_grid = {'epsilon' :[0.0],\n",
    "             'C' : [0.0001, 0.001, 0.01, 0.1, 1.0, 10]}"
   ]
  },
  {
   "cell_type": "code",
   "execution_count": 38,
   "id": "6f94c45d",
   "metadata": {},
   "outputs": [],
   "source": [
    "grid = GridSearchCV(lin_svr,param_grid)"
   ]
  },
  {
   "cell_type": "code",
   "execution_count": 39,
   "id": "376b3944",
   "metadata": {},
   "outputs": [
    {
     "name": "stderr",
     "output_type": "stream",
     "text": [
      "C:\\Users\\ibrahim\\anaconda3\\lib\\site-packages\\sklearn\\svm\\_base.py:1206: ConvergenceWarning: Liblinear failed to converge, increase the number of iterations.\n",
      "  warnings.warn(\n",
      "C:\\Users\\ibrahim\\anaconda3\\lib\\site-packages\\sklearn\\svm\\_base.py:1206: ConvergenceWarning: Liblinear failed to converge, increase the number of iterations.\n",
      "  warnings.warn(\n",
      "C:\\Users\\ibrahim\\anaconda3\\lib\\site-packages\\sklearn\\svm\\_base.py:1206: ConvergenceWarning: Liblinear failed to converge, increase the number of iterations.\n",
      "  warnings.warn(\n",
      "C:\\Users\\ibrahim\\anaconda3\\lib\\site-packages\\sklearn\\svm\\_base.py:1206: ConvergenceWarning: Liblinear failed to converge, increase the number of iterations.\n",
      "  warnings.warn(\n"
     ]
    },
    {
     "data": {
      "text/plain": [
       "GridSearchCV(estimator=LinearSVR(),\n",
       "             param_grid={'C': [0.0001, 0.001, 0.01, 0.1, 1.0, 10],\n",
       "                         'epsilon': [0.0]})"
      ]
     },
     "execution_count": 39,
     "metadata": {},
     "output_type": "execute_result"
    }
   ],
   "source": [
    "grid.fit(X_train_scaler, y_train)"
   ]
  },
  {
   "cell_type": "code",
   "execution_count": 40,
   "id": "90d2f864",
   "metadata": {},
   "outputs": [
    {
     "data": {
      "text/plain": [
       "LinearSVR(C=10)"
      ]
     },
     "execution_count": 40,
     "metadata": {},
     "output_type": "execute_result"
    }
   ],
   "source": [
    "grid.best_estimator_"
   ]
  },
  {
   "cell_type": "code",
   "execution_count": 41,
   "id": "5c9ade6a",
   "metadata": {},
   "outputs": [
    {
     "data": {
      "text/plain": [
       "{'C': 10,\n",
       " 'dual': True,\n",
       " 'epsilon': 0.0,\n",
       " 'fit_intercept': True,\n",
       " 'intercept_scaling': 1.0,\n",
       " 'loss': 'epsilon_insensitive',\n",
       " 'max_iter': 1000,\n",
       " 'random_state': None,\n",
       " 'tol': 0.0001,\n",
       " 'verbose': 0}"
      ]
     },
     "execution_count": 41,
     "metadata": {},
     "output_type": "execute_result"
    }
   ],
   "source": [
    "grid.best_estimator_.get_params()"
   ]
  },
  {
   "cell_type": "code",
   "execution_count": 42,
   "id": "85c1b886",
   "metadata": {},
   "outputs": [
    {
     "data": {
      "text/plain": [
       "0.8048278941698234"
      ]
     },
     "execution_count": 42,
     "metadata": {},
     "output_type": "execute_result"
    }
   ],
   "source": [
    "grid.best_score_"
   ]
  },
  {
   "cell_type": "code",
   "execution_count": 43,
   "id": "72072412",
   "metadata": {},
   "outputs": [],
   "source": [
    "lin_preds = grid.predict(X_test_scaler)"
   ]
  },
  {
   "cell_type": "markdown",
   "id": "a9683480",
   "metadata": {},
   "source": [
    "## Evaluasi model LinearSVR"
   ]
  },
  {
   "cell_type": "code",
   "execution_count": 44,
   "id": "a51024aa",
   "metadata": {},
   "outputs": [
    {
     "data": {
      "text/plain": [
       "1.8043383161330824"
      ]
     },
     "execution_count": 44,
     "metadata": {},
     "output_type": "execute_result"
    }
   ],
   "source": [
    "MAE = mean_absolute_error(y_test, lin_preds)\n",
    "MAE"
   ]
  },
  {
   "cell_type": "code",
   "execution_count": 45,
   "id": "17c7d0d9",
   "metadata": {},
   "outputs": [
    {
     "data": {
      "text/plain": [
       "4.452730432929376"
      ]
     },
     "execution_count": 45,
     "metadata": {},
     "output_type": "execute_result"
    }
   ],
   "source": [
    "MSE = mean_squared_error(y_test, lin_preds)\n",
    "MSE"
   ]
  },
  {
   "cell_type": "code",
   "execution_count": 46,
   "id": "45c20331",
   "metadata": {},
   "outputs": [
    {
     "data": {
      "text/plain": [
       "2.1101493864012033"
      ]
     },
     "execution_count": 46,
     "metadata": {},
     "output_type": "execute_result"
    }
   ],
   "source": [
    "RMSE = np.sqrt(MSE)\n",
    "RMSE"
   ]
  },
  {
   "cell_type": "code",
   "execution_count": 47,
   "id": "1b94d16c",
   "metadata": {},
   "outputs": [
    {
     "data": {
      "text/plain": [
       "0.9119965437356807"
      ]
     },
     "execution_count": 47,
     "metadata": {},
     "output_type": "execute_result"
    }
   ],
   "source": [
    "r2_score(y_test, lin_preds)"
   ]
  },
  {
   "cell_type": "markdown",
   "id": "76c873cb",
   "metadata": {},
   "source": [
    "**kesimpulan**\n",
    "\n",
    "dari hasil perbandingan 2 model SVR dan LinearSVR nilai terbaik menggunkan model `LinearSVR`\n",
    "karena hasil perhitunngan MAE, MSE, RMSE = mempunyai nilai yang mendekati angka 0 merupakan indikasi nilai terbaik"
   ]
  },
  {
   "cell_type": "code",
   "execution_count": null,
   "id": "ceac22e8",
   "metadata": {},
   "outputs": [],
   "source": []
  }
 ],
 "metadata": {
  "kernelspec": {
   "display_name": "Python 3",
   "language": "python",
   "name": "python3"
  },
  "language_info": {
   "codemirror_mode": {
    "name": "ipython",
    "version": 3
   },
   "file_extension": ".py",
   "mimetype": "text/x-python",
   "name": "python",
   "nbconvert_exporter": "python",
   "pygments_lexer": "ipython3",
   "version": "3.8.8"
  }
 },
 "nbformat": 4,
 "nbformat_minor": 5
}
