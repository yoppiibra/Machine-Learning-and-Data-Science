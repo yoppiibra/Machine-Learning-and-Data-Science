{
 "cells": [
  {
   "cell_type": "code",
   "execution_count": 1,
   "id": "90835358",
   "metadata": {},
   "outputs": [],
   "source": [
    "import numpy as np\n",
    "import pandas as pd\n",
    "import matplotlib.pyplot as plt\n",
    "import seaborn as sns\n",
    "import scienceplots"
   ]
  },
  {
   "cell_type": "code",
   "execution_count": 2,
   "id": "0d693362",
   "metadata": {},
   "outputs": [],
   "source": [
    "df = pd.read_csv(r'C:\\Users\\Data\\Advertising.csv\\Advertising.csv', index_col=0)"
   ]
  },
  {
   "cell_type": "code",
   "execution_count": 3,
   "id": "8e4a8fd8",
   "metadata": {},
   "outputs": [
    {
     "data": {
      "text/html": [
       "<div>\n",
       "<style scoped>\n",
       "    .dataframe tbody tr th:only-of-type {\n",
       "        vertical-align: middle;\n",
       "    }\n",
       "\n",
       "    .dataframe tbody tr th {\n",
       "        vertical-align: top;\n",
       "    }\n",
       "\n",
       "    .dataframe thead th {\n",
       "        text-align: right;\n",
       "    }\n",
       "</style>\n",
       "<table border=\"1\" class=\"dataframe\">\n",
       "  <thead>\n",
       "    <tr style=\"text-align: right;\">\n",
       "      <th></th>\n",
       "      <th>TV</th>\n",
       "      <th>Radio</th>\n",
       "      <th>Newspaper</th>\n",
       "      <th>Sales</th>\n",
       "    </tr>\n",
       "  </thead>\n",
       "  <tbody>\n",
       "    <tr>\n",
       "      <th>1</th>\n",
       "      <td>230.1</td>\n",
       "      <td>37.8</td>\n",
       "      <td>69.2</td>\n",
       "      <td>22.1</td>\n",
       "    </tr>\n",
       "    <tr>\n",
       "      <th>2</th>\n",
       "      <td>44.5</td>\n",
       "      <td>39.3</td>\n",
       "      <td>45.1</td>\n",
       "      <td>10.4</td>\n",
       "    </tr>\n",
       "    <tr>\n",
       "      <th>3</th>\n",
       "      <td>17.2</td>\n",
       "      <td>45.9</td>\n",
       "      <td>69.3</td>\n",
       "      <td>9.3</td>\n",
       "    </tr>\n",
       "    <tr>\n",
       "      <th>4</th>\n",
       "      <td>151.5</td>\n",
       "      <td>41.3</td>\n",
       "      <td>58.5</td>\n",
       "      <td>18.5</td>\n",
       "    </tr>\n",
       "    <tr>\n",
       "      <th>5</th>\n",
       "      <td>180.8</td>\n",
       "      <td>10.8</td>\n",
       "      <td>58.4</td>\n",
       "      <td>12.9</td>\n",
       "    </tr>\n",
       "  </tbody>\n",
       "</table>\n",
       "</div>"
      ],
      "text/plain": [
       "      TV  Radio  Newspaper  Sales\n",
       "1  230.1   37.8       69.2   22.1\n",
       "2   44.5   39.3       45.1   10.4\n",
       "3   17.2   45.9       69.3    9.3\n",
       "4  151.5   41.3       58.5   18.5\n",
       "5  180.8   10.8       58.4   12.9"
      ]
     },
     "execution_count": 3,
     "metadata": {},
     "output_type": "execute_result"
    }
   ],
   "source": [
    "df.head()"
   ]
  },
  {
   "cell_type": "code",
   "execution_count": 4,
   "id": "f31a6db6",
   "metadata": {},
   "outputs": [],
   "source": [
    "X = df.drop('Sales', axis =1)\n",
    "y = df['Sales']"
   ]
  },
  {
   "cell_type": "markdown",
   "id": "ebc4c1ee",
   "metadata": {},
   "source": [
    "------\n",
    "## Preprocessing PolynomialFeatures"
   ]
  },
  {
   "cell_type": "code",
   "execution_count": 5,
   "id": "078ff894",
   "metadata": {},
   "outputs": [],
   "source": [
    "from sklearn.preprocessing import PolynomialFeatures"
   ]
  },
  {
   "cell_type": "code",
   "execution_count": 6,
   "id": "41751618",
   "metadata": {},
   "outputs": [
    {
     "name": "stdout",
     "output_type": "stream",
     "text": [
      "Help on class PolynomialFeatures in module sklearn.preprocessing._polynomial:\n",
      "\n",
      "class PolynomialFeatures(sklearn.base.TransformerMixin, sklearn.base.BaseEstimator)\n",
      " |  PolynomialFeatures(degree=2, *, interaction_only=False, include_bias=True, order='C')\n",
      " |  \n",
      " |  Generate polynomial and interaction features.\n",
      " |  \n",
      " |  Generate a new feature matrix consisting of all polynomial combinations\n",
      " |  of the features with degree less than or equal to the specified degree.\n",
      " |  For example, if an input sample is two dimensional and of the form\n",
      " |  [a, b], the degree-2 polynomial features are [1, a, b, a^2, ab, b^2].\n",
      " |  \n",
      " |  Read more in the :ref:`User Guide <polynomial_features>`.\n",
      " |  \n",
      " |  Parameters\n",
      " |  ----------\n",
      " |  degree : int or tuple (min_degree, max_degree), default=2\n",
      " |      If a single int is given, it specifies the maximal degree of the\n",
      " |      polynomial features. If a tuple `(min_degree, max_degree)` is passed,\n",
      " |      then `min_degree` is the minimum and `max_degree` is the maximum\n",
      " |      polynomial degree of the generated features. Note that `min_degree=0`\n",
      " |      and `min_degree=1` are equivalent as outputting the degree zero term is\n",
      " |      determined by `include_bias`.\n",
      " |  \n",
      " |  interaction_only : bool, default=False\n",
      " |      If `True`, only interaction features are produced: features that are\n",
      " |      products of at most `degree` *distinct* input features, i.e. terms with\n",
      " |      power of 2 or higher of the same input feature are excluded:\n",
      " |  \n",
      " |          - included: `x[0]`, `x[1]`, `x[0] * x[1]`, etc.\n",
      " |          - excluded: `x[0] ** 2`, `x[0] ** 2 * x[1]`, etc.\n",
      " |  \n",
      " |  include_bias : bool, default=True\n",
      " |      If `True` (default), then include a bias column, the feature in which\n",
      " |      all polynomial powers are zero (i.e. a column of ones - acts as an\n",
      " |      intercept term in a linear model).\n",
      " |  \n",
      " |  order : {'C', 'F'}, default='C'\n",
      " |      Order of output array in the dense case. `'F'` order is faster to\n",
      " |      compute, but may slow down subsequent estimators.\n",
      " |  \n",
      " |      .. versionadded:: 0.21\n",
      " |  \n",
      " |  Attributes\n",
      " |  ----------\n",
      " |  powers_ : ndarray of shape (`n_output_features_`, `n_features_in_`)\n",
      " |      `powers_[i, j]` is the exponent of the jth input in the ith output.\n",
      " |  \n",
      " |  n_input_features_ : int\n",
      " |      The total number of input features.\n",
      " |  \n",
      " |      .. deprecated:: 1.0\n",
      " |          This attribute is deprecated in 1.0 and will be removed in 1.2.\n",
      " |          Refer to `n_features_in_` instead.\n",
      " |  \n",
      " |  n_features_in_ : int\n",
      " |      Number of features seen during :term:`fit`.\n",
      " |  \n",
      " |      .. versionadded:: 0.24\n",
      " |  \n",
      " |  feature_names_in_ : ndarray of shape (`n_features_in_`,)\n",
      " |      Names of features seen during :term:`fit`. Defined only when `X`\n",
      " |      has feature names that are all strings.\n",
      " |  \n",
      " |      .. versionadded:: 1.0\n",
      " |  \n",
      " |  n_output_features_ : int\n",
      " |      The total number of polynomial output features. The number of output\n",
      " |      features is computed by iterating over all suitably sized combinations\n",
      " |      of input features.\n",
      " |  \n",
      " |  See Also\n",
      " |  --------\n",
      " |  SplineTransformer : Transformer that generates univariate B-spline bases\n",
      " |      for features.\n",
      " |  \n",
      " |  Notes\n",
      " |  -----\n",
      " |  Be aware that the number of features in the output array scales\n",
      " |  polynomially in the number of features of the input array, and\n",
      " |  exponentially in the degree. High degrees can cause overfitting.\n",
      " |  \n",
      " |  See :ref:`examples/linear_model/plot_polynomial_interpolation.py\n",
      " |  <sphx_glr_auto_examples_linear_model_plot_polynomial_interpolation.py>`\n",
      " |  \n",
      " |  Examples\n",
      " |  --------\n",
      " |  >>> import numpy as np\n",
      " |  >>> from sklearn.preprocessing import PolynomialFeatures\n",
      " |  >>> X = np.arange(6).reshape(3, 2)\n",
      " |  >>> X\n",
      " |  array([[0, 1],\n",
      " |         [2, 3],\n",
      " |         [4, 5]])\n",
      " |  >>> poly = PolynomialFeatures(2)\n",
      " |  >>> poly.fit_transform(X)\n",
      " |  array([[ 1.,  0.,  1.,  0.,  0.,  1.],\n",
      " |         [ 1.,  2.,  3.,  4.,  6.,  9.],\n",
      " |         [ 1.,  4.,  5., 16., 20., 25.]])\n",
      " |  >>> poly = PolynomialFeatures(interaction_only=True)\n",
      " |  >>> poly.fit_transform(X)\n",
      " |  array([[ 1.,  0.,  1.,  0.],\n",
      " |         [ 1.,  2.,  3.,  6.],\n",
      " |         [ 1.,  4.,  5., 20.]])\n",
      " |  \n",
      " |  Method resolution order:\n",
      " |      PolynomialFeatures\n",
      " |      sklearn.base.TransformerMixin\n",
      " |      sklearn.base.BaseEstimator\n",
      " |      builtins.object\n",
      " |  \n",
      " |  Methods defined here:\n",
      " |  \n",
      " |  __init__(self, degree=2, *, interaction_only=False, include_bias=True, order='C')\n",
      " |      Initialize self.  See help(type(self)) for accurate signature.\n",
      " |  \n",
      " |  fit(self, X, y=None)\n",
      " |      Compute number of output features.\n",
      " |      \n",
      " |      Parameters\n",
      " |      ----------\n",
      " |      X : {array-like, sparse matrix} of shape (n_samples, n_features)\n",
      " |          The data.\n",
      " |      \n",
      " |      y : Ignored\n",
      " |          Not used, present here for API consistency by convention.\n",
      " |      \n",
      " |      Returns\n",
      " |      -------\n",
      " |      self : object\n",
      " |          Fitted transformer.\n",
      " |  \n",
      " |  get_feature_names(self, input_features=None)\n",
      " |      DEPRECATED: get_feature_names is deprecated in 1.0 and will be removed in 1.2. Please use get_feature_names_out instead.\n",
      " |      \n",
      " |      Return feature names for output features.\n",
      " |      \n",
      " |          Parameters\n",
      " |          ----------\n",
      " |          input_features : list of str of shape (n_features,), default=None\n",
      " |              String names for input features if available. By default,\n",
      " |              \"x0\", \"x1\", ... \"xn_features\" is used.\n",
      " |      \n",
      " |          Returns\n",
      " |          -------\n",
      " |          output_feature_names : list of str of shape (n_output_features,)\n",
      " |              Transformed feature names.\n",
      " |  \n",
      " |  get_feature_names_out(self, input_features=None)\n",
      " |      Get output feature names for transformation.\n",
      " |      \n",
      " |      Parameters\n",
      " |      ----------\n",
      " |      input_features : array-like of str or None, default=None\n",
      " |          Input features.\n",
      " |      \n",
      " |          - If `input_features is None`, then `feature_names_in_` is\n",
      " |            used as feature names in. If `feature_names_in_` is not defined,\n",
      " |            then names are generated: `[x0, x1, ..., x(n_features_in_)]`.\n",
      " |          - If `input_features` is an array-like, then `input_features` must\n",
      " |            match `feature_names_in_` if `feature_names_in_` is defined.\n",
      " |      \n",
      " |      Returns\n",
      " |      -------\n",
      " |      feature_names_out : ndarray of str objects\n",
      " |          Transformed feature names.\n",
      " |  \n",
      " |  transform(self, X)\n",
      " |      Transform data to polynomial features.\n",
      " |      \n",
      " |      Parameters\n",
      " |      ----------\n",
      " |      X : {array-like, sparse matrix} of shape (n_samples, n_features)\n",
      " |          The data to transform, row by row.\n",
      " |      \n",
      " |          Prefer CSR over CSC for sparse input (for speed), but CSC is\n",
      " |          required if the degree is 4 or higher. If the degree is less than\n",
      " |          4 and the input format is CSC, it will be converted to CSR, have\n",
      " |          its polynomial features generated, then converted back to CSC.\n",
      " |      \n",
      " |          If the degree is 2 or 3, the method described in \"Leveraging\n",
      " |          Sparsity to Speed Up Polynomial Feature Expansions of CSR Matrices\n",
      " |          Using K-Simplex Numbers\" by Andrew Nystrom and John Hughes is\n",
      " |          used, which is much faster than the method used on CSC input. For\n",
      " |          this reason, a CSC input will be converted to CSR, and the output\n",
      " |          will be converted back to CSC prior to being returned, hence the\n",
      " |          preference of CSR.\n",
      " |      \n",
      " |      Returns\n",
      " |      -------\n",
      " |      XP : {ndarray, sparse matrix} of shape (n_samples, NP)\n",
      " |          The matrix of features, where `NP` is the number of polynomial\n",
      " |          features generated from the combination of inputs. If a sparse\n",
      " |          matrix is provided, it will be converted into a sparse\n",
      " |          `csr_matrix`.\n",
      " |  \n",
      " |  ----------------------------------------------------------------------\n",
      " |  Readonly properties defined here:\n",
      " |  \n",
      " |  n_input_features_\n",
      " |      DEPRECATED: The attribute `n_input_features_` was deprecated in version 1.0 and will be removed in 1.2.\n",
      " |  \n",
      " |  powers_\n",
      " |      Exponent for each of the inputs in the output.\n",
      " |  \n",
      " |  ----------------------------------------------------------------------\n",
      " |  Methods inherited from sklearn.base.TransformerMixin:\n",
      " |  \n",
      " |  fit_transform(self, X, y=None, **fit_params)\n",
      " |      Fit to data, then transform it.\n",
      " |      \n",
      " |      Fits transformer to `X` and `y` with optional parameters `fit_params`\n",
      " |      and returns a transformed version of `X`.\n",
      " |      \n",
      " |      Parameters\n",
      " |      ----------\n",
      " |      X : array-like of shape (n_samples, n_features)\n",
      " |          Input samples.\n",
      " |      \n",
      " |      y :  array-like of shape (n_samples,) or (n_samples, n_outputs),                 default=None\n",
      " |          Target values (None for unsupervised transformations).\n",
      " |      \n",
      " |      **fit_params : dict\n",
      " |          Additional fit parameters.\n",
      " |      \n",
      " |      Returns\n",
      " |      -------\n",
      " |      X_new : ndarray array of shape (n_samples, n_features_new)\n",
      " |          Transformed array.\n",
      " |  \n",
      " |  ----------------------------------------------------------------------\n",
      " |  Data descriptors inherited from sklearn.base.TransformerMixin:\n",
      " |  \n",
      " |  __dict__\n",
      " |      dictionary for instance variables (if defined)\n",
      " |  \n",
      " |  __weakref__\n",
      " |      list of weak references to the object (if defined)\n",
      " |  \n",
      " |  ----------------------------------------------------------------------\n",
      " |  Methods inherited from sklearn.base.BaseEstimator:\n",
      " |  \n",
      " |  __getstate__(self)\n",
      " |  \n",
      " |  __repr__(self, N_CHAR_MAX=700)\n",
      " |      Return repr(self).\n",
      " |  \n",
      " |  __setstate__(self, state)\n",
      " |  \n",
      " |  get_params(self, deep=True)\n",
      " |      Get parameters for this estimator.\n",
      " |      \n",
      " |      Parameters\n",
      " |      ----------\n",
      " |      deep : bool, default=True\n",
      " |          If True, will return the parameters for this estimator and\n",
      " |          contained subobjects that are estimators.\n",
      " |      \n",
      " |      Returns\n",
      " |      -------\n",
      " |      params : dict\n",
      " |          Parameter names mapped to their values.\n",
      " |  \n",
      " |  set_params(self, **params)\n",
      " |      Set the parameters of this estimator.\n",
      " |      \n",
      " |      The method works on simple estimators as well as on nested objects\n",
      " |      (such as :class:`~sklearn.pipeline.Pipeline`). The latter have\n",
      " |      parameters of the form ``<component>__<parameter>`` so that it's\n",
      " |      possible to update each component of a nested object.\n",
      " |      \n",
      " |      Parameters\n",
      " |      ----------\n",
      " |      **params : dict\n",
      " |          Estimator parameters.\n",
      " |      \n",
      " |      Returns\n",
      " |      -------\n",
      " |      self : estimator instance\n",
      " |          Estimator instance.\n",
      "\n"
     ]
    }
   ],
   "source": [
    "help(PolynomialFeatures)"
   ]
  },
  {
   "cell_type": "code",
   "execution_count": 7,
   "id": "f5ec689c",
   "metadata": {},
   "outputs": [],
   "source": [
    "polynomial_convert = PolynomialFeatures(degree=2, include_bias = False)"
   ]
  },
  {
   "cell_type": "code",
   "execution_count": 8,
   "id": "a1ccf062",
   "metadata": {},
   "outputs": [
    {
     "data": {
      "text/plain": [
       "PolynomialFeatures(include_bias=False)"
      ]
     },
     "execution_count": 8,
     "metadata": {},
     "output_type": "execute_result"
    }
   ],
   "source": [
    "polynomial_convert"
   ]
  },
  {
   "cell_type": "code",
   "execution_count": 9,
   "id": "a17951c7",
   "metadata": {},
   "outputs": [],
   "source": [
    "polyfeatures = polynomial_convert.fit_transform(X)"
   ]
  },
  {
   "cell_type": "code",
   "execution_count": 10,
   "id": "d0f87d6b",
   "metadata": {},
   "outputs": [
    {
     "data": {
      "text/plain": [
       "(200, 9)"
      ]
     },
     "execution_count": 10,
     "metadata": {},
     "output_type": "execute_result"
    }
   ],
   "source": [
    "polyfeatures.shape "
   ]
  },
  {
   "cell_type": "code",
   "execution_count": 11,
   "id": "b5944097",
   "metadata": {},
   "outputs": [
    {
     "data": {
      "text/plain": [
       "array([2.301000e+02, 3.780000e+01, 6.920000e+01, 5.294601e+04,\n",
       "       8.697780e+03, 1.592292e+04, 1.428840e+03, 2.615760e+03,\n",
       "       4.788640e+03])"
      ]
     },
     "execution_count": 11,
     "metadata": {},
     "output_type": "execute_result"
    }
   ],
   "source": [
    "polyfeatures[0]"
   ]
  },
  {
   "cell_type": "code",
   "execution_count": 12,
   "id": "612f6743",
   "metadata": {},
   "outputs": [
    {
     "data": {
      "text/plain": [
       "array([230.1,  37.8,  69.2])"
      ]
     },
     "execution_count": 12,
     "metadata": {},
     "output_type": "execute_result"
    }
   ],
   "source": [
    "polyfeatures[0][:3]"
   ]
  },
  {
   "cell_type": "markdown",
   "id": "7c6e89d8",
   "metadata": {},
   "source": [
    "---\n",
    "## Train test split"
   ]
  },
  {
   "cell_type": "code",
   "execution_count": 13,
   "id": "7074434c",
   "metadata": {},
   "outputs": [],
   "source": [
    "from sklearn.model_selection import train_test_split"
   ]
  },
  {
   "cell_type": "code",
   "execution_count": 14,
   "id": "844113fe",
   "metadata": {},
   "outputs": [],
   "source": [
    "X_train, X_test, y_train, y_test = train_test_split(polyfeatures, y, test_size= 0.3, random_state= 101)"
   ]
  },
  {
   "cell_type": "markdown",
   "id": "9f413aa6",
   "metadata": {},
   "source": [
    "## Create Model"
   ]
  },
  {
   "cell_type": "code",
   "execution_count": 15,
   "id": "dc9dec35",
   "metadata": {},
   "outputs": [],
   "source": [
    "from sklearn.linear_model import LinearRegression"
   ]
  },
  {
   "cell_type": "code",
   "execution_count": 16,
   "id": "e07f8b00",
   "metadata": {},
   "outputs": [],
   "source": [
    "#help(LinearRegression)"
   ]
  },
  {
   "cell_type": "code",
   "execution_count": 17,
   "id": "c40b85ee",
   "metadata": {},
   "outputs": [],
   "source": [
    "model = LinearRegression(fit_intercept=True)"
   ]
  },
  {
   "cell_type": "markdown",
   "id": "90d71145",
   "metadata": {},
   "source": [
    "---\n",
    "## Training model"
   ]
  },
  {
   "cell_type": "code",
   "execution_count": 18,
   "id": "c91bcef0",
   "metadata": {},
   "outputs": [
    {
     "data": {
      "text/plain": [
       "LinearRegression()"
      ]
     },
     "execution_count": 18,
     "metadata": {},
     "output_type": "execute_result"
    }
   ],
   "source": [
    "model.fit(X_train, y_train)"
   ]
  },
  {
   "cell_type": "markdown",
   "id": "30284604",
   "metadata": {},
   "source": [
    "## Prediction"
   ]
  },
  {
   "cell_type": "code",
   "execution_count": 19,
   "id": "1aaaf5fa",
   "metadata": {},
   "outputs": [],
   "source": [
    "test_prediction = model.predict(X_test)"
   ]
  },
  {
   "cell_type": "code",
   "execution_count": 20,
   "id": "5597b3a9",
   "metadata": {},
   "outputs": [
    {
     "data": {
      "text/plain": [
       "array([13.94856153, 19.33480262, 12.31928162, 16.76286337,  7.90210901,\n",
       "        6.94143792, 20.13372693, 17.50092709, 10.56889   , 20.12551788,\n",
       "        9.44614537, 14.09935417, 12.05513493, 23.39254049, 19.67508393,\n",
       "        9.15626258, 12.1163732 ,  9.28149557,  8.44604007, 21.65588129,\n",
       "        7.05070331, 19.35854208, 27.26716369, 24.58689346,  9.03179421,\n",
       "       11.81070232, 20.42630125,  9.19390639, 12.74795186,  8.64340674,\n",
       "        8.66294151, 20.20047377, 10.93673817,  6.84639129, 18.27939359,\n",
       "        9.47659449, 10.34242145,  9.6657038 ,  7.43347915, 11.03561332,\n",
       "       12.65731013, 10.65459946, 11.20971496,  7.46199023, 11.38224982,\n",
       "       10.27331262,  6.15573251, 15.50893362, 13.36092889, 22.71839277,\n",
       "       10.40389682, 13.21622701, 14.23622207, 11.8723677 , 11.68463616,\n",
       "        5.62217738, 25.03778913,  9.53507734, 17.37926571, 15.7534364 ])"
      ]
     },
     "execution_count": 20,
     "metadata": {},
     "output_type": "execute_result"
    }
   ],
   "source": [
    "test_prediction"
   ]
  },
  {
   "cell_type": "markdown",
   "id": "8f81845c",
   "metadata": {},
   "source": [
    "---\n",
    "## Metrics Evaluation"
   ]
  },
  {
   "cell_type": "code",
   "execution_count": 21,
   "id": "9b6e086b",
   "metadata": {},
   "outputs": [],
   "source": [
    "from sklearn.metrics import mean_absolute_error, mean_squared_error"
   ]
  },
  {
   "cell_type": "code",
   "execution_count": 22,
   "id": "bcd318a6",
   "metadata": {},
   "outputs": [],
   "source": [
    "MAE = mean_absolute_error(y_test, test_prediction)\n",
    "MSE = mean_squared_error(y_test, test_prediction)\n",
    "RMSE = np.sqrt(MSE)"
   ]
  },
  {
   "cell_type": "code",
   "execution_count": 23,
   "id": "40973259",
   "metadata": {},
   "outputs": [
    {
     "data": {
      "text/plain": [
       "0.4896798044803558"
      ]
     },
     "execution_count": 23,
     "metadata": {},
     "output_type": "execute_result"
    }
   ],
   "source": [
    "MAE"
   ]
  },
  {
   "cell_type": "code",
   "execution_count": 24,
   "id": "5a5d86fe",
   "metadata": {},
   "outputs": [
    {
     "data": {
      "text/plain": [
       "0.44175055104033756"
      ]
     },
     "execution_count": 24,
     "metadata": {},
     "output_type": "execute_result"
    }
   ],
   "source": [
    "MSE"
   ]
  },
  {
   "cell_type": "code",
   "execution_count": 25,
   "id": "4ca17c86",
   "metadata": {},
   "outputs": [
    {
     "data": {
      "text/plain": [
       "0.664643175726899"
      ]
     },
     "execution_count": 25,
     "metadata": {},
     "output_type": "execute_result"
    }
   ],
   "source": [
    "RMSE"
   ]
  },
  {
   "cell_type": "code",
   "execution_count": 26,
   "id": "3c669d2c",
   "metadata": {},
   "outputs": [
    {
     "data": {
      "text/plain": [
       "14.022500000000003"
      ]
     },
     "execution_count": 26,
     "metadata": {},
     "output_type": "execute_result"
    }
   ],
   "source": [
    "df['Sales'].mean()"
   ]
  },
  {
   "cell_type": "markdown",
   "id": "c6f226be",
   "metadata": {},
   "source": [
    "---\n",
    "## Choosing the model"
   ]
  },
  {
   "cell_type": "code",
   "execution_count": 27,
   "id": "4681a149",
   "metadata": {},
   "outputs": [],
   "source": [
    "\n",
    "train_rmse_error = [] # Training error per degree\n",
    "test_rmse_error = [] # test error per degree\n",
    "\n",
    "for degree in range(1, 10):\n",
    "    \n",
    "    polynomial_converter = PolynomialFeatures(degree = degree, include_bias=False)\n",
    "    polyfeatures = polynomial_converter.fit_transform(X)\n",
    "    \n",
    "    # split \n",
    "    X_train, X_test, y_train, y_test = train_test_split(polyfeatures, y, test_size = 0.3, random_state= 42)\n",
    "    \n",
    "    # train model\n",
    "    model = LinearRegression(fit_intercept=True)\n",
    "    model.fit(X_train, y_train)\n",
    "    \n",
    "    # prediction\n",
    "    train_pred = model.predict(X_train)\n",
    "    test_pred = model.predict(X_test)\n",
    "    \n",
    "    # calculate error\n",
    "    train_RMSE = np.sqrt(mean_squared_error(y_train, train_pred))\n",
    "    test_RMSE = np.sqrt(mean_squared_error(y_test, test_pred))\n",
    "    \n",
    "    # append error\n",
    "    train_rmse_error.append(train_RMSE)\n",
    "    test_rmse_error.append(test_RMSE)\n",
    "    \n"
   ]
  },
  {
   "cell_type": "code",
   "execution_count": 28,
   "id": "193abf20",
   "metadata": {},
   "outputs": [
    {
     "data": {
      "text/plain": [
       "[1.5745968305905438,\n",
       " 0.5950712355838924,\n",
       " 0.46887581118220867,\n",
       " 0.3694689701771557,\n",
       " 0.24382207498099467,\n",
       " 0.19730909268503127,\n",
       " 0.5474862979604246,\n",
       " 0.167997950875381,\n",
       " 0.15887147240223293]"
      ]
     },
     "execution_count": 28,
     "metadata": {},
     "output_type": "execute_result"
    }
   ],
   "source": [
    "train_rmse_error"
   ]
  },
  {
   "cell_type": "code",
   "execution_count": 29,
   "id": "61571312",
   "metadata": {},
   "outputs": [
    {
     "data": {
      "text/plain": [
       "[1.9485372043446383,\n",
       " 0.7233218473857542,\n",
       " 0.5392350985650703,\n",
       " 1.3032265586817728,\n",
       " 5.946740659488152,\n",
       " 25.029336579284532,\n",
       " 688.3866339553578,\n",
       " 3523.720530930248,\n",
       " 147140.88786030587]"
      ]
     },
     "execution_count": 29,
     "metadata": {},
     "output_type": "execute_result"
    }
   ],
   "source": [
    "test_rmse_error"
   ]
  },
  {
   "cell_type": "code",
   "execution_count": 30,
   "id": "6fda6c03",
   "metadata": {},
   "outputs": [],
   "source": [
    "plt.style.use(['science','notebook','grid'])"
   ]
  },
  {
   "cell_type": "code",
   "execution_count": 31,
   "id": "1090f1a1",
   "metadata": {},
   "outputs": [
    {
     "data": {
      "image/png": "[encoded data removed]",
      "text/plain": [
       "<Figure size 800x600 with 1 Axes>"
      ]
     },
     "metadata": {},
     "output_type": "display_data"
    }
   ],
   "source": [
    "plt.plot(range(1, 6), train_rmse_error[:5], label='Train')\n",
    "plt.plot(range(1, 6), test_rmse_error[:5], label='Test')\n",
    "plt.xlabel('Degree of Poly')\n",
    "plt.ylabel('RMSE')\n",
    "plt.legend();"
   ]
  },
  {
   "cell_type": "code",
   "execution_count": 32,
   "id": "8b01a120",
   "metadata": {},
   "outputs": [
    {
     "data": {
      "image/png": "[encoded data removed]",
      "text/plain": [
       "<Figure size 800x600 with 1 Axes>"
      ]
     },
     "metadata": {},
     "output_type": "display_data"
    }
   ],
   "source": [
    "plt.plot(range(1, 10), train_rmse_error, label='Train')\n",
    "plt.plot(range(1, 10), test_rmse_error, label='Test')\n",
    "plt.xlabel('Degree of Poly')\n",
    "plt.ylabel('RMSE')\n",
    "plt.legend();"
   ]
  },
  {
   "cell_type": "code",
   "execution_count": 33,
   "id": "d2b30cc0",
   "metadata": {},
   "outputs": [
    {
     "data": {
      "image/png": "[encoded data removed]",
      "text/plain": [
       "<Figure size 800x600 with 1 Axes>"
      ]
     },
     "metadata": {},
     "output_type": "display_data"
    }
   ],
   "source": [
    "plt.plot(range(1, 10), train_rmse_error, label='Train')\n",
    "plt.plot(range(1, 10), test_rmse_error, label='Test')\n",
    "plt.xlabel('Degree of Poly')\n",
    "plt.ylabel('RMSE')\n",
    "plt.ylim(0,100)\n",
    "\n",
    "plt.legend();"
   ]
  },
  {
   "cell_type": "markdown",
   "id": "e5961e8f",
   "metadata": {},
   "source": [
    "----\n",
    "### Dari hasil ploting dapat di simpulkan nilai terbaiknya degree 4 namun untuk agar biar lebih aman maka menggunakan degree 3\n",
    "----"
   ]
  },
  {
   "cell_type": "markdown",
   "id": "16c0cc12",
   "metadata": {},
   "source": [
    "## Final Processing PolynomialFeatures"
   ]
  },
  {
   "cell_type": "code",
   "execution_count": 34,
   "id": "882d0aec",
   "metadata": {},
   "outputs": [],
   "source": [
    "final_poly_converter = PolynomialFeatures(degree=3, include_bias = False)"
   ]
  },
  {
   "cell_type": "code",
   "execution_count": 35,
   "id": "8122f7df",
   "metadata": {},
   "outputs": [],
   "source": [
    "final_model = LinearRegression()"
   ]
  },
  {
   "cell_type": "code",
   "execution_count": 36,
   "id": "83bbea13",
   "metadata": {},
   "outputs": [
    {
     "data": {
      "text/plain": [
       "LinearRegression()"
      ]
     },
     "execution_count": 36,
     "metadata": {},
     "output_type": "execute_result"
    }
   ],
   "source": [
    "final_model.fit(final_poly_converter.fit_transform(X), y)"
   ]
  },
  {
   "cell_type": "code",
   "execution_count": null,
   "id": "2734e230",
   "metadata": {},
   "outputs": [],
   "source": []
  },
  {
   "cell_type": "markdown",
   "id": "5183d327",
   "metadata": {},
   "source": [
    "## Saving and Converter Model"
   ]
  },
  {
   "cell_type": "code",
   "execution_count": 37,
   "id": "1e16d12d",
   "metadata": {},
   "outputs": [],
   "source": [
    "from joblib import dump, load"
   ]
  },
  {
   "cell_type": "code",
   "execution_count": 38,
   "id": "0a0965b3",
   "metadata": {},
   "outputs": [
    {
     "data": {
      "text/plain": [
       "['sales_poly_model.joblib']"
      ]
     },
     "execution_count": 38,
     "metadata": {},
     "output_type": "execute_result"
    }
   ],
   "source": [
    "dump(final_model,'sales_poly_model.joblib')"
   ]
  },
  {
   "cell_type": "code",
   "execution_count": 39,
   "id": "3822ff09",
   "metadata": {},
   "outputs": [
    {
     "data": {
      "text/plain": [
       "['poly_converter.joblib']"
      ]
     },
     "execution_count": 39,
     "metadata": {},
     "output_type": "execute_result"
    }
   ],
   "source": [
    "dump(final_poly_converter, 'poly_converter.joblib')"
   ]
  },
  {
   "cell_type": "markdown",
   "id": "3e814d42",
   "metadata": {},
   "source": [
    "## Deploy and Predictions"
   ]
  },
  {
   "cell_type": "code",
   "execution_count": 40,
   "id": "e47e8c59",
   "metadata": {},
   "outputs": [],
   "source": [
    "loaded_model = load('sales_poly_model.joblib')\n",
    "loaded_poly = load('poly_converter.joblib')"
   ]
  },
  {
   "cell_type": "code",
   "execution_count": 41,
   "id": "c0e0dbee",
   "metadata": {},
   "outputs": [],
   "source": [
    "iklan = [[149,22,12]]"
   ]
  },
  {
   "cell_type": "code",
   "execution_count": 42,
   "id": "a7242809",
   "metadata": {},
   "outputs": [
    {
     "name": "stderr",
     "output_type": "stream",
     "text": [
      "C:\\Users\\ibrahim\\anaconda3\\lib\\site-packages\\sklearn\\base.py:450: UserWarning: X does not have valid feature names, but PolynomialFeatures was fitted with feature names\n",
      "  warnings.warn(\n"
     ]
    }
   ],
   "source": [
    "iklan_poly = loaded_poly.transform(iklan)"
   ]
  },
  {
   "cell_type": "code",
   "execution_count": 43,
   "id": "9702bb82",
   "metadata": {},
   "outputs": [
    {
     "data": {
      "text/plain": [
       "array([[1.490000e+02, 2.200000e+01, 1.200000e+01, 2.220100e+04,\n",
       "        3.278000e+03, 1.788000e+03, 4.840000e+02, 2.640000e+02,\n",
       "        1.440000e+02, 3.307949e+06, 4.884220e+05, 2.664120e+05,\n",
       "        7.211600e+04, 3.933600e+04, 2.145600e+04, 1.064800e+04,\n",
       "        5.808000e+03, 3.168000e+03, 1.728000e+03]])"
      ]
     },
     "execution_count": 43,
     "metadata": {},
     "output_type": "execute_result"
    }
   ],
   "source": [
    "iklan_poly "
   ]
  },
  {
   "cell_type": "code",
   "execution_count": 44,
   "id": "bd7d1d08",
   "metadata": {},
   "outputs": [
    {
     "data": {
      "text/plain": [
       "array([14.64501014])"
      ]
     },
     "execution_count": 44,
     "metadata": {},
     "output_type": "execute_result"
    }
   ],
   "source": [
    "final_model.predict(iklan_poly)"
   ]
  }
 ],
 "metadata": {
  "kernelspec": {
   "display_name": "Python 3 (ipykernel)",
   "language": "python",
   "name": "python3"
  },
  "language_info": {
   "codemirror_mode": {
    "name": "ipython",
    "version": 3
   },
   "file_extension": ".py",
   "mimetype": "text/x-python",
   "name": "python",
   "nbconvert_exporter": "python",
   "pygments_lexer": "ipython3",
   "version": "3.9.13"
  }
 },
 "nbformat": 4,
 "nbformat_minor": 5
}
